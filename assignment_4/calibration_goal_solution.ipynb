{
 "cells": [
  {
   "cell_type": "markdown",
   "metadata": {},
   "source": [
    "Importing libraries"
   ]
  },
  {
   "cell_type": "code",
   "execution_count": 26,
   "metadata": {},
   "outputs": [],
   "source": [
    "# Warning : the backend below may generate some issues if used\n",
    "# in a conda environment.\n",
    "%matplotlib tk\n",
    "# Try this backend if %matplotlib tk does not work properly\n",
    "# In this case do not use the ginput command.\n",
    "#%matplotlib notebook\n",
    "import matplotlib\n",
    "import matplotlib.pyplot as plt\n",
    "import matplotlib.image as mpimg\n",
    "import numpy as np\n",
    "from mpl_toolkits.mplot3d import Axes3D\n",
    "from scipy import linalg\n",
    "\n",
    "import warnings\n",
    "\n",
    "def fxn():\n",
    "    warnings.warn(\"deprecated\", DeprecationWarning)\n",
    "\n",
    "with warnings.catch_warnings():\n",
    "    warnings.simplefilter(\"ignore\")\n",
    "    fxn()"
   ]
  },
  {
   "cell_type": "markdown",
   "metadata": {},
   "source": [
    "Enter dimensions of soccer field"
   ]
  },
  {
   "cell_type": "code",
   "execution_count": 27,
   "metadata": {},
   "outputs": [],
   "source": [
    "goal_width=7.32\n",
    "goal_height=2.44\n",
    "goal_area_1=5.5\n",
    "goal_area_2=18.32\n",
    "penalty_area_1=16.5\n",
    "penalty_area_2=40.32\n",
    "corner_arc=1\n",
    "flag_height=1.5\n",
    "field_1=65\n",
    "field_2=105"
   ]
  },
  {
   "cell_type": "markdown",
   "metadata": {},
   "source": [
    "Enter 3D point coordinates - Goal-> Goal area -> Penalty area -> Corners -> Corner radius points -> Flag extremity"
   ]
  },
  {
   "cell_type": "code",
   "execution_count": 29,
   "metadata": {},
   "outputs": [
    {
     "name": "stdout",
     "output_type": "stream",
     "text": [
      "[[  3.66   0.     0.  ]\n",
      " [  3.66   2.44   0.  ]\n",
      " [ -3.66   2.44   0.  ]\n",
      " [ -3.66   0.     0.  ]\n",
      " [  9.16   0.     0.  ]\n",
      " [  9.16   0.     5.5 ]\n",
      " [ -9.16   0.     5.5 ]\n",
      " [ -9.16   0.     0.  ]\n",
      " [ 20.16   0.     0.  ]\n",
      " [ 20.16   0.    16.5 ]\n",
      " [-20.16   0.    16.5 ]\n",
      " [-20.16   0.     0.  ]\n",
      " [ 32.5    0.     0.  ]\n",
      " [-32.5    0.     0.  ]\n",
      " [ 31.5    0.     0.  ]\n",
      " [-31.5    0.     0.  ]\n",
      " [ 32.5    0.     1.  ]\n",
      " [-32.5    0.     1.  ]\n",
      " [ 32.5    1.5    0.  ]\n",
      " [-32.5    1.5    0.  ]]\n"
     ]
    }
   ],
   "source": [
    "        # Goal\n",
    "u_field=np.array([[goal_width/2,0,0],[goal_width/2,goal_height,0],   \n",
    "        [-goal_width/2,goal_height,0],[-goal_width/2,0,0],            \n",
    "        # Goal\n",
    "        [goal_area_2/2,0,0],[goal_area_2/2,0,goal_area_1],           \n",
    "        # Goal area\n",
    "        [-goal_area_2/2,0,goal_area_1],[-goal_area_2/2,0,0],\n",
    "        # Goal area\n",
    "        [penalty_area_2/2,0,0],[penalty_area_2/2,0,penalty_area_1],\n",
    "        # Penalty area\n",
    "        [-penalty_area_2/2,0,penalty_area_1],[-penalty_area_2/2,0,0],\n",
    "        # Penalty area\n",
    "        [field_1/2,0,0],[-field_1/2,0,0], # Corners\n",
    "        [field_1/2-corner_arc,0,0],[-field_1/2+corner_arc,0,0],\n",
    "        # Corner radius x\n",
    "        [field_1/2,0,corner_arc],[-field_1/2,0,corner_arc],\n",
    "        # Corner radius y\n",
    "        [field_1/2,flag_height,0],[-field_1/2,flag_height,0]])\n",
    "        # Flag extremities\n",
    "print(u_field)"
   ]
  },
  {
   "cell_type": "markdown",
   "metadata": {},
   "source": [
    "Keep points that are visible in the image buffer"
   ]
  },
  {
   "cell_type": "code",
   "execution_count": 30,
   "metadata": {},
   "outputs": [],
   "source": [
    "    # Goal\n",
    "u_w=np.array([[goal_width/2,0,0],[goal_width/2,goal_height,0],\n",
    "    # Goal\n",
    "    [-goal_width/2,goal_height,0],[-goal_width/2,0,0],\n",
    "    # Goal area\n",
    "    [goal_area_2/2,0,0],[goal_area_2/2,0,goal_area_1],\n",
    "    # Goal area\n",
    "    [-goal_area_2/2,0,goal_area_1],[-goal_area_2/2,0,0],\n",
    "    # Penalty area\n",
    "    [-penalty_area_2/2,0,0],\n",
    "    # Corners\n",
    "    [-field_1/2,0,0],\n",
    "    # Corner radius x\n",
    "    [-field_1/2+corner_arc,0,0],\n",
    "    # Corner radius y\n",
    "    [-field_1/2,0,corner_arc],\n",
    "    # Flag extremities\n",
    "    [-field_1/2,flag_height,0]])          \n",
    "\n",
    "# Number of visible points\n",
    "N=np.shape(u_w)[0]\n",
    "# Transformation to homogeneous coordinates\n",
    "u_w= np.vstack((np.transpose(u_w),np.ones(N)))"
   ]
  },
  {
   "cell_type": "markdown",
   "metadata": {},
   "source": [
    "Show 3D cloud of points"
   ]
  },
  {
   "cell_type": "code",
   "execution_count": 31,
   "metadata": {},
   "outputs": [],
   "source": [
    "fig = plt.figure()\n",
    "ax = fig.add_subplot(111, projection='3d')\n",
    "ax.scatter(u_w[0,:],-u_w[2,:],u_w[1,:])\n",
    "ax.set_xlim(-35, 35)\n",
    "ax.set_zlim(-10, 1)\n",
    "ax.set_ylim(-2,10)\n",
    "plt.show()"
   ]
  },
  {
   "cell_type": "markdown",
   "metadata": {},
   "source": [
    "Get image buffer points manually"
   ]
  },
  {
   "cell_type": "code",
   "execution_count": 32,
   "metadata": {},
   "outputs": [],
   "source": [
    "img=mpimg.imread('goal.jpg')\n",
    "fig,ax = plt.subplots()\n",
    "ax.imshow(img)\n",
    "\n",
    "# If %matplotlib works properly you can\n",
    "# use the following two lines\n",
    "# Image buffer points from mouse clicks\n",
    "u_im = np.array(plt.ginput(N,timeout=-1))\n",
    "plt.close()\n",
    "\n",
    "# If you %matplotlib does not work properly\n",
    "# you can try the code below\n",
    "#u_im= np.array([]).reshape(0,2)\n",
    "#def onclick(event):\n",
    "#    global ix, iy\n",
    "#    ix, iy = event.xdata, event.ydata\n",
    "    \n",
    "#    global u_im\n",
    "#    u_im = np.vstack((u_im,np.array([[ix,iy]])))\n",
    "\n",
    "#    if np.shape(u_im)[0] == 13:\n",
    "#        fig.canvas.mpl_disconnect(cid)\n",
    "#        plt.close()\n",
    "        \n",
    "#cid = fig.canvas.mpl_connect('button_press_event', onclick)"
   ]
  },
  {
   "cell_type": "code",
   "execution_count": 8,
   "metadata": {},
   "outputs": [
    {
     "name": "stdout",
     "output_type": "stream",
     "text": [
      "[[1658.32862903  984.04919355]\n",
      " [1419.70362903  741.57540323]\n",
      " [1427.40120968  410.57943548]\n",
      " [1685.27016129  603.01895161]\n",
      " [1877.70967742 1191.88387097]\n",
      " [ 957.84879032 1203.43024194]\n",
      " [ 569.12096774  622.26290323]\n",
      " [1269.60080645  618.4141129 ]\n",
      " [1027.12701613  391.33548387]\n",
      " [ 807.74596774  183.50080645]\n",
      " [ 792.35080645  164.25685484]\n",
      " [ 707.67741935  175.80322581]\n",
      " [ 796.19959677   21.8516129 ]]\n"
     ]
    }
   ],
   "source": [
    "print(u_im)"
   ]
  },
  {
   "cell_type": "markdown",
   "metadata": {},
   "source": [
    "Show image point coordinates in homogeneous coordinates"
   ]
  },
  {
   "cell_type": "code",
   "execution_count": 33,
   "metadata": {},
   "outputs": [
    {
     "name": "stdout",
     "output_type": "stream",
     "text": [
      "[[1.65832863e+03 1.68142137e+03 1.42355242e+03 1.42740121e+03\n",
      "  1.88155847e+03 9.57848790e+02 5.57574597e+02 1.27344960e+03\n",
      "  1.02712702e+03 7.96199597e+02 8.15443548e+02 7.15375000e+02\n",
      "  8.03897177e+02]\n",
      " [9.91746774e+02 6.10716532e+02 4.14428226e+02 7.45424194e+02\n",
      "  1.19188387e+03 1.21112782e+03 6.29960484e+02 6.14565323e+02\n",
      "  3.87486694e+02 1.71954435e+02 1.87349597e+02 1.71954435e+02\n",
      "  2.18516129e+01]\n",
      " [1.00000000e+00 1.00000000e+00 1.00000000e+00 1.00000000e+00\n",
      "  1.00000000e+00 1.00000000e+00 1.00000000e+00 1.00000000e+00\n",
      "  1.00000000e+00 1.00000000e+00 1.00000000e+00 1.00000000e+00\n",
      "  1.00000000e+00]]\n"
     ]
    }
   ],
   "source": [
    "u_im = np.vstack((np.transpose(u_im),np.ones(N)))\n",
    "print(u_im)"
   ]
  },
  {
   "cell_type": "markdown",
   "metadata": {},
   "source": [
    "Show chosen points"
   ]
  },
  {
   "cell_type": "code",
   "execution_count": 10,
   "metadata": {},
   "outputs": [],
   "source": [
    "# Change backend if necessary\n",
    "#%matplotlib inline"
   ]
  },
  {
   "cell_type": "code",
   "execution_count": 34,
   "metadata": {},
   "outputs": [],
   "source": [
    "fig,ax = plt.subplots()\n",
    "ax.imshow(img)\n",
    "plt.scatter(u_im[0,:],u_im[1,:])\n",
    "plt.show()"
   ]
  },
  {
   "cell_type": "markdown",
   "metadata": {
    "collapsed": true
   },
   "source": [
    "Centering and scaling"
   ]
  },
  {
   "cell_type": "markdown",
   "metadata": {},
   "source": [
    "3D points"
   ]
  },
  {
   "cell_type": "code",
   "execution_count": 12,
   "metadata": {},
   "outputs": [
    {
     "name": "stdout",
     "output_type": "stream",
     "text": [
      "[[ 0.06329239  0.          0.          0.72620717]\n",
      " [ 0.          1.08582757  0.         -0.53289076]\n",
      " [ 0.          0.          0.50775827 -0.46869994]\n",
      " [ 0.          0.          0.          1.        ]]\n"
     ]
    }
   ],
   "source": [
    "s_w    =1./(np.std(u_w,1,keepdims=True)[0:3])# Scaling\n",
    "t_w    =-(np.mean(u_w,1,keepdims=True)[0:3]) # Translation\n",
    "diag_s =np.diag(np.squeeze(s_w))\n",
    "# Stacking scaling and translation\n",
    "T_w    =np.array(np.hstack((diag_s,t_w*s_w)))\n",
    "T_w    =np.vstack((T_w,np.array([0,0,0,1])))\n",
    "print(T_w)"
   ]
  },
  {
   "cell_type": "markdown",
   "metadata": {},
   "source": [
    "Image buffer points"
   ]
  },
  {
   "cell_type": "code",
   "execution_count": 13,
   "metadata": {},
   "outputs": [
    {
     "name": "stdout",
     "output_type": "stream",
     "text": [
      "[[ 2.43439403e-03  0.00000000e+00 -2.80818300e+00]\n",
      " [ 0.00000000e+00  2.67152838e-03 -1.50262417e+00]\n",
      " [ 0.00000000e+00  0.00000000e+00  1.00000000e+00]]\n"
     ]
    }
   ],
   "source": [
    "s_im   =1./(np.std(u_im,1,keepdims=True)[0:2]) # Scaling\n",
    "t_im   =-(np.mean(u_im,1,keepdims=True)[0:2])  # Translation\n",
    "diag_s =np.diag(np.squeeze(s_im))\n",
    "# Stacking scaling and translation\n",
    "T_im   =np.array(np.hstack((diag_s,t_im*s_im)))\n",
    "T_im   =np.vstack((T_im,np.array([0,0,1])))\n",
    "print(T_im)"
   ]
  },
  {
   "cell_type": "markdown",
   "metadata": {},
   "source": [
    "Transformed 3D points and buffer points"
   ]
  },
  {
   "cell_type": "code",
   "execution_count": 14,
   "metadata": {},
   "outputs": [],
   "source": [
    "u_w_t = np.dot(T_w,u_w)   # Transformed 3D points\n",
    "u_im_t= np.dot(T_im,u_im) # Transformed image buffer points"
   ]
  },
  {
   "cell_type": "markdown",
   "metadata": {},
   "source": [
    "Construction of the A matrix for DLT"
   ]
  },
  {
   "cell_type": "code",
   "execution_count": 15,
   "metadata": {},
   "outputs": [],
   "source": [
    "u_w_i=np.transpose(u_w_t[:,0].reshape(-1,1))\n",
    "A_i_1=np.hstack((np.zeros((1,4)),-u_w_i,u_im_t[1,0]*u_w_i))\n",
    "A_i_2=np.hstack((u_w_i,np.zeros((1,4)),-u_im_t[0,0]*u_w_i))\n",
    "A    = np.vstack((A_i_1,A_i_2))\n",
    "# Stacking matrices for each point correspondence\n",
    "for i in range(1,N):    \n",
    "    u_w_i=np.transpose(u_w_t[:,i].reshape(-1,1))\n",
    "    A_i_1=np.hstack((np.zeros((1,4)),-u_w_i,u_im_t[1,i]*u_w_i))\n",
    "    A_i_2=np.hstack((u_w_i,np.zeros((1,4)),-u_im_t[0,i]*u_w_i))\n",
    "    A    = np.vstack((A,A_i_1,A_i_2))"
   ]
  },
  {
   "cell_type": "markdown",
   "metadata": {},
   "source": [
    "Solution using the SVD"
   ]
  },
  {
   "cell_type": "code",
   "execution_count": 16,
   "metadata": {},
   "outputs": [
    {
     "name": "stdout",
     "output_type": "stream",
     "text": [
      "[-0.50164     0.06256396  0.35749295  0.08902465 -0.52797793  0.13196275\n",
      " -0.02844511  0.09683147  0.11034956  0.00249865 -0.01903982 -0.53834037]\n"
     ]
    }
   ],
   "source": [
    "U,S,V = np.linalg.svd(A) # SVD\n",
    "m_t   = V[11,:]          # Last row of V, \n",
    "                         # since python's V is the transpose\n",
    "                         # of the SVD's V \n",
    "print(m_t)"
   ]
  },
  {
   "cell_type": "markdown",
   "metadata": {},
   "source": [
    "Reshape to get M_t"
   ]
  },
  {
   "cell_type": "code",
   "execution_count": 17,
   "metadata": {},
   "outputs": [
    {
     "name": "stdout",
     "output_type": "stream",
     "text": [
      "[[-0.50164     0.06256396  0.35749295  0.08902465]\n",
      " [-0.52797793  0.13196275 -0.02844511  0.09683147]\n",
      " [ 0.11034956  0.00249865 -0.01903982 -0.53834037]]\n"
     ]
    }
   ],
   "source": [
    "M_t   = m_t.reshape(3,4)\n",
    "print(M_t)"
   ]
  },
  {
   "cell_type": "markdown",
   "metadata": {},
   "source": [
    "Transform to get M"
   ]
  },
  {
   "cell_type": "code",
   "execution_count": 18,
   "metadata": {},
   "outputs": [],
   "source": [
    "M = np.dot(np.linalg.inv(T_im),np.dot(M_t,T_w))"
   ]
  },
  {
   "cell_type": "markdown",
   "metadata": {},
   "source": [
    "Rescale to get three first elements of third row with unitary norm"
   ]
  },
  {
   "cell_type": "code",
   "execution_count": 19,
   "metadata": {},
   "outputs": [
    {
     "name": "stdout",
     "output_type": "stream",
     "text": [
      "[[ 4.07608079e+02 -2.53738532e+03 -5.18447133e+03  5.84893850e+04]\n",
      " [ 7.01495887e+02 -4.50987344e+03  8.86579137e+02  3.12361438e+04]\n",
      " [-5.71018576e-01 -2.21816823e-01  7.90401849e-01  3.68408944e+01]]\n"
     ]
    }
   ],
   "source": [
    "M = -M/np.linalg.norm(M[2,0:3])\n",
    "print(M)"
   ]
  },
  {
   "cell_type": "markdown",
   "metadata": {},
   "source": [
    "Getting Intrinsic and rotation matrices with RQ decomposition"
   ]
  },
  {
   "cell_type": "code",
   "execution_count": 20,
   "metadata": {},
   "outputs": [
    {
     "name": "stdout",
     "output_type": "stream",
     "text": [
      "[[-3.46710777e+03  2.69565671e+03  3.76773276e+03]\n",
      " [ 0.00000000e+00  4.46381462e+03 -1.30055241e+03]\n",
      " [ 0.00000000e+00  0.00000000e+00 -1.00000000e+00]]\n",
      "[[ 0.75450135  0.23762564  0.61176938]\n",
      " [ 0.32352048 -0.94569094 -0.03167244]\n",
      " [ 0.57101858  0.22181682 -0.79040185]]\n"
     ]
    }
   ],
   "source": [
    "M_int, R = linalg.rq(M[:,0:3])\n",
    "print(M_int)\n",
    "print(R)"
   ]
  },
  {
   "cell_type": "markdown",
   "metadata": {},
   "source": [
    "Change signs of columns of M_int\n",
    "and corresponding rows of R if necessary"
   ]
  },
  {
   "cell_type": "code",
   "execution_count": 21,
   "metadata": {},
   "outputs": [
    {
     "name": "stdout",
     "output_type": "stream",
     "text": [
      "[[-3.46710777e+03  2.69565671e+03  3.76773276e+03]\n",
      " [ 0.00000000e+00  4.46381462e+03 -1.30055241e+03]\n",
      " [ 0.00000000e+00  0.00000000e+00 -1.00000000e+00]]\n",
      "[[ 0.75450135  0.23762564  0.61176938]\n",
      " [ 0.32352048 -0.94569094 -0.03167244]\n",
      " [ 0.57101858  0.22181682 -0.79040185]]\n"
     ]
    }
   ],
   "source": [
    "#M_int[:,0] = -M_int[:,0]\n",
    "#R[0,:] = -R[0,:]\n",
    "#M_int[:,1] = -M_int[:,1]\n",
    "#R[1,:] = -R[1,:]\n",
    "#M_int[:,2] = -M_int[:,2]\n",
    "#R[2,:] = -R[2,:]\n",
    "print(M_int)\n",
    "print(R)"
   ]
  },
  {
   "cell_type": "markdown",
   "metadata": {},
   "source": [
    "Checking determinant of the rotation matrix"
   ]
  },
  {
   "cell_type": "code",
   "execution_count": 22,
   "metadata": {},
   "outputs": [
    {
     "name": "stdout",
     "output_type": "stream",
     "text": [
      "0.9999999999999999\n"
     ]
    }
   ],
   "source": [
    "print(np.linalg.det(R))"
   ]
  },
  {
   "cell_type": "markdown",
   "metadata": {},
   "source": [
    "Project points on the image buffer using the estimated camera matrix"
   ]
  },
  {
   "cell_type": "code",
   "execution_count": 23,
   "metadata": {},
   "outputs": [],
   "source": [
    "u_sim=np.dot(M,u_w)\n",
    "u_sim=u_sim/u_sim[2,:]\n",
    "\n",
    "fig,ax = plt.subplots()\n",
    "ax.imshow(img)\n",
    "plt.scatter(u_sim[0,:],u_sim[1,:])\n",
    "plt.show()"
   ]
  },
  {
   "cell_type": "markdown",
   "metadata": {},
   "source": [
    "Evaluate translation vector"
   ]
  },
  {
   "cell_type": "code",
   "execution_count": 24,
   "metadata": {},
   "outputs": [
    {
     "name": "stdout",
     "output_type": "stream",
     "text": [
      "[67.37219195 18.8510742   7.35241713]\n"
     ]
    }
   ],
   "source": [
    "t=np.linalg.solve(M_int,M[:,3])\n",
    "print(-np.dot(R.T,t))"
   ]
  },
  {
   "cell_type": "code",
   "execution_count": 25,
   "metadata": {},
   "outputs": [
    {
     "name": "stdout",
     "output_type": "stream",
     "text": [
      "[[ 4.07608079e+02 -2.53738532e+03 -5.18447133e+03  5.84893850e+04]\n",
      " [ 7.01495887e+02 -4.50987344e+03  8.86579137e+02  3.12361438e+04]\n",
      " [-5.71018576e-01 -2.21816823e-01  7.90401849e-01  3.68408944e+01]]\n"
     ]
    }
   ],
   "source": [
    "print(M)"
   ]
  }
 ],
 "metadata": {
  "anaconda-cloud": {},
  "kernelspec": {
   "display_name": "Python 3",
   "language": "python",
   "name": "python3"
  },
  "language_info": {
   "codemirror_mode": {
    "name": "ipython",
    "version": 3
   },
   "file_extension": ".py",
   "mimetype": "text/x-python",
   "name": "python",
   "nbconvert_exporter": "python",
   "pygments_lexer": "ipython3",
   "version": "3.6.4"
  },
  "toc": {
   "colors": {
    "hover_highlight": "#DAA520",
    "running_highlight": "#FF0000",
    "selected_highlight": "#FFD700"
   },
   "moveMenuLeft": true,
   "nav_menu": {
    "height": "12px",
    "width": "252px"
   },
   "navigate_menu": true,
   "number_sections": true,
   "sideBar": true,
   "threshold": 4,
   "toc_cell": false,
   "toc_section_display": "block",
   "toc_window_display": false,
   "widenNotebook": false
  }
 },
 "nbformat": 4,
 "nbformat_minor": 1
}