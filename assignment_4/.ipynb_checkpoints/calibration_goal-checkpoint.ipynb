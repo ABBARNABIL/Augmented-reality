{
 "cells": [
  {
   "cell_type": "markdown",
   "metadata": {},
   "source": [
    "Importing libraries"
   ]
  },
  {
   "cell_type": "code",
   "execution_count": null,
   "metadata": {
    "pycharm": {
     "is_executing": true
    }
   },
   "outputs": [],
   "source": [
    "# Warning : the backend below may generate some issues if used\n",
    "# in a conda environment.\n",
    "#%matplotlib tk\n",
    "# Try this backend if %matplotlib tk does not work properly\n",
    "# In this case do not use the ginput command.\n",
    "%matplotlib notebook\n",
    "import matplotlib\n",
    "import matplotlib.pyplot as plt\n",
    "import matplotlib.image as mpimg\n",
    "import numpy as np\n",
    "from mpl_toolkits.mplot3d import Axes3D\n",
    "from scipy import linalg\n",
    "\n",
    "import warnings\n",
    "\n",
    "def fxn():\n",
    "    warnings.warn(\"deprecated\", DeprecationWarning)\n",
    "\n",
    "with warnings.catch_warnings():\n",
    "    warnings.simplefilter(\"ignore\")\n",
    "    fxn()"
   ]
  },
  {
   "cell_type": "markdown",
   "metadata": {},
   "source": [
    "Enter dimensions of soccer field"
   ]
  },
  {
   "cell_type": "code",
   "execution_count": null,
   "metadata": {
    "pycharm": {
     "is_executing": true
    }
   },
   "outputs": [],
   "source": [
    "goal_width=7.32\n",
    "goal_height=2.44\n",
    "goal_area_1=5.5\n",
    "goal_area_2=18.32\n",
    "penalty_area_1=16.5\n",
    "penalty_area_2=40.32\n",
    "corner_arc=1\n",
    "flag_height=1.5\n",
    "field_1=65\n",
    "field_2=105"
   ]
  },
  {
   "cell_type": "markdown",
   "metadata": {},
   "source": [
    "Enter 3D point coordinates - Goal-> Goal area -> Penalty area -> Corners -> Corner radius points -> Flag extremity"
   ]
  },
  {
   "cell_type": "code",
   "execution_count": null,
   "metadata": {
    "pycharm": {
     "is_executing": true
    }
   },
   "outputs": [],
   "source": [
    "#u_field=np.array([#*****#,#*****#,     # Goal\n",
    "                  #*****#,#*****#,     # Goal\n",
    "                  #*****#,#*****#,     # Goal area\n",
    "                  #*****#,#*****#,     # Goal area\n",
    "                  #*****#,#*****#,     # Penalty area\n",
    "                  #*****#,#*****#,     # Penalty area\n",
    "                  #*****#,#*****#,     # Corners\n",
    "                  #*****#,#*****#,     # Corner radius x\n",
    "                  #*****#,#*****#,     # Corner radius y\n",
    "                  #*****#,#*****#])    # Flag extremities"
   ]
  },
  {
   "cell_type": "markdown",
   "metadata": {},
   "source": [
    "Keep points that are visible in the image buffer\n",
    "and put them in homogeneous coordinates "
   ]
  },
  {
   "cell_type": "code",
   "execution_count": null,
   "metadata": {
    "pycharm": {
     "is_executing": true
    }
   },
   "outputs": [],
   "source": [
    "u_w=    np.array([[goal_width/2,0,0],[goal_width/2,goal_height,0], # Goal\n",
    "                  [-goal_width/2,goal_height,0],[goal_width/2,0,0],# Goal\n",
    "                  [goal_area_2/2,0,0],[goal_area_2/2,0,goal_area_1],# Goal area\n",
    "                  [-goal_area_2/2,0,goal_area_1],[-goal_area_2/2,0,0],      # Goal area\n",
    "                  [-penalty_area_2/2,0,0],  # Penalty area\n",
    "                  [-field_1/2,0,0],              # Corner\n",
    "                  [-field_1/2+corner_arc,0,0],  # Corner radius x\n",
    "                  [-field_1/2,0,corner_arc],              # Corner radius z\n",
    "                  [-field_1/2,flag_height,0]])             # Flag extremities\n",
    "\n",
    "\n",
    "N=np.shape(u_w)[0]       # Number of visible points                                    \n",
    "u_w=np.vstack((u_w.T,np.ones(N)))# Transformation to homogeneous coordinates\n",
    "print(u_w)\n",
    "print(np.shape(u_w))"
   ]
  },
  {
   "cell_type": "markdown",
   "metadata": {},
   "source": [
    "Show 3D cloud of points"
   ]
  },
  {
   "cell_type": "code",
   "execution_count": null,
   "metadata": {
    "pycharm": {
     "is_executing": true
    }
   },
   "outputs": [],
   "source": [
    "fig = plt.figure()\n",
    "ax = fig.add_subplot(111, projection='3d')\n",
    "ax.scatter(u_w[0,:],-u_w[2,:],u_w[1,:])\n",
    "ax.set_xlim(-35,35)\n",
    "ax.set_zlim(-10,1)\n",
    "ax.set_ylim(-2,10)\n",
    "plt.show()"
   ]
  },
  {
   "cell_type": "markdown",
   "metadata": {},
   "source": [
    "Get image buffer points manually"
   ]
  },
  {
   "cell_type": "code",
   "execution_count": null,
   "metadata": {
    "pycharm": {
     "is_executing": true
    }
   },
   "outputs": [],
   "source": [
    "img=mpimg.imread('goal.jpg')\n",
    "fig,ax = plt.subplots()\n",
    "ax.imshow(img)\n",
    "\n",
    "# If %matplotlib works properly you can\n",
    "# use the following two lines\n",
    "# Image buffer points from mouse clicks\n",
    "u_im = np.array(plt.ginput(N,timeout=-1))\n",
    "#plt.close()\n",
    "\n",
    "# If you %matplotlib does not work properly\n",
    "# you can try the code below\n",
    "u_im= np.array([]).reshape(0,2)\n",
    "def onclick(event):\n",
    "    global ix, iy\n",
    "    ix, iy = event.xdata, event.ydata\n",
    "    \n",
    "    global u_im\n",
    "    u_im = np.vstack((u_im,np.array([[ix,iy]])))\n",
    "\n",
    "    if np.shape(u_im)[0] == 13:\n",
    "        fig.canvas.mpl_disconnect(cid)\n",
    "        plt.close()\n",
    "        \n",
    "cid = fig.canvas.mpl_connect('button_press_event', onclick)"
   ]
  },
  {
   "cell_type": "code",
   "execution_count": null,
   "metadata": {
    "pycharm": {
     "is_executing": true
    }
   },
   "outputs": [],
   "source": [
    "print(u_im)"
   ]
  },
  {
   "cell_type": "markdown",
   "metadata": {},
   "source": [
    "Show image point coordinates in homogeneous coordinates"
   ]
  },
  {
   "cell_type": "code",
   "execution_count": null,
   "metadata": {
    "pycharm": {
     "is_executing": true
    }
   },
   "outputs": [],
   "source": [
    "u_im = np.vstack((np.transpose(u_im),np.ones(N)))\n",
    "print(u_im)"
   ]
  },
  {
   "cell_type": "markdown",
   "metadata": {},
   "source": [
    "Show chosen points"
   ]
  },
  {
   "cell_type": "code",
   "execution_count": null,
   "metadata": {
    "pycharm": {
     "is_executing": true
    }
   },
   "outputs": [],
   "source": [
    "plt.imshow(img)\n",
    "plt.scatter(u_im[0,:],u_im[1,:])\n",
    "plt.show()"
   ]
  },
  {
   "cell_type": "markdown",
   "metadata": {
    "collapsed": true
   },
   "source": [
    "Centering and scaling"
   ]
  },
  {
   "cell_type": "markdown",
   "metadata": {},
   "source": [
    "3D points"
   ]
  },
  {
   "cell_type": "code",
   "execution_count": null,
   "metadata": {
    "pycharm": {
     "is_executing": true
    }
   },
   "outputs": [],
   "source": [
    "s_w = 1./np.std(u_w,1)[0:3]\n",
    "t_w = -(np.mean(u_w,1)[0:3])\n",
    "diag_s = np.diag(s_w)\n",
    "T_w = np.hstack((diag_s,(s_w*t_w).reshape(-1,1)))\n",
    "T_w = np.vstack((T_w,np.array([0,0,0,1])))\n",
    "u_w_t = np.dot(T_w,u_w)\n",
    "print(u_w_t)"
   ]
  },
  {
   "cell_type": "markdown",
   "metadata": {},
   "source": [
    "Image buffer points"
   ]
  },
  {
   "cell_type": "code",
   "execution_count": null,
   "metadata": {
    "pycharm": {
     "is_executing": true
    }
   },
   "outputs": [],
   "source": [
    "#*****#"
   ]
  },
  {
   "cell_type": "markdown",
   "metadata": {},
   "source": [
    "Transformed 3D points and buffer points"
   ]
  },
  {
   "cell_type": "code",
   "execution_count": null,
   "metadata": {
    "pycharm": {
     "is_executing": true
    }
   },
   "outputs": [],
   "source": [
    "u_w_t = #*****#   # Transformed 3D points\n",
    "u_im_t= #*****# # Transformed image buffer points"
   ]
  },
  {
   "cell_type": "markdown",
   "metadata": {},
   "source": [
    "Construction of the A matrix for DLT"
   ]
  },
  {
   "cell_type": "code",
   "execution_count": null,
   "metadata": {
    "pycharm": {
     "is_executing": true
    }
   },
   "outputs": [],
   "source": [
    "#*****#"
   ]
  },
  {
   "cell_type": "markdown",
   "metadata": {},
   "source": [
    "Solution using the SVD"
   ]
  },
  {
   "cell_type": "code",
   "execution_count": null,
   "metadata": {
    "pycharm": {
     "is_executing": true
    }
   },
   "outputs": [],
   "source": [
    "#*****#"
   ]
  },
  {
   "cell_type": "markdown",
   "metadata": {},
   "source": [
    "Reshape to get M_t"
   ]
  },
  {
   "cell_type": "code",
   "execution_count": null,
   "metadata": {
    "pycharm": {
     "is_executing": true
    }
   },
   "outputs": [],
   "source": [
    "#*****#"
   ]
  },
  {
   "cell_type": "markdown",
   "metadata": {},
   "source": [
    "Transform to get M"
   ]
  },
  {
   "cell_type": "code",
   "execution_count": null,
   "metadata": {
    "pycharm": {
     "is_executing": true
    }
   },
   "outputs": [],
   "source": [
    "#*****#"
   ]
  },
  {
   "cell_type": "markdown",
   "metadata": {},
   "source": [
    "Rescale to get three first elements of third row with unitary norm"
   ]
  },
  {
   "cell_type": "code",
   "execution_count": null,
   "metadata": {
    "pycharm": {
     "is_executing": true
    }
   },
   "outputs": [],
   "source": [
    "#*****#\n",
    "print(M)"
   ]
  },
  {
   "cell_type": "markdown",
   "metadata": {},
   "source": [
    "Getting Intrinsic and rotation matrices with RQ decomposition"
   ]
  },
  {
   "cell_type": "code",
   "execution_count": null,
   "metadata": {
    "pycharm": {
     "is_executing": true
    }
   },
   "outputs": [],
   "source": [
    "#*****#\n",
    "print(M_int)\n",
    "print(R)"
   ]
  },
  {
   "cell_type": "markdown",
   "metadata": {},
   "source": [
    "Change signs of columns of M_int\n",
    "and corresponding rows of R if necessary"
   ]
  },
  {
   "cell_type": "code",
   "execution_count": null,
   "metadata": {
    "pycharm": {
     "is_executing": true
    }
   },
   "outputs": [],
   "source": [
    "#*****#\n",
    "print(M_int)\n",
    "print(R)"
   ]
  },
  {
   "cell_type": "markdown",
   "metadata": {},
   "source": [
    "Checking determinant of the rotation matrix"
   ]
  },
  {
   "cell_type": "code",
   "execution_count": null,
   "metadata": {
    "pycharm": {
     "is_executing": true
    }
   },
   "outputs": [],
   "source": [
    "#*****#"
   ]
  },
  {
   "cell_type": "markdown",
   "metadata": {},
   "source": [
    "Project points on the image buffer using the estimated camera matrix"
   ]
  },
  {
   "cell_type": "code",
   "execution_count": null,
   "metadata": {
    "pycharm": {
     "is_executing": true
    }
   },
   "outputs": [],
   "source": [
    "u_sim=#*****#\n",
    "u_sim=#*****#\n",
    "\n",
    "plt.imshow(img)\n",
    "plt.scatter(u_sim[0,:],u_sim[1,:])\n",
    "plt.show()"
   ]
  },
  {
   "cell_type": "markdown",
   "metadata": {},
   "source": [
    "Evaluate and print translation vector of the camera"
   ]
  },
  {
   "cell_type": "code",
   "execution_count": null,
   "metadata": {
    "pycharm": {
     "is_executing": true
    }
   },
   "outputs": [],
   "source": [
    "#*****#"
   ]
  },
  {
   "cell_type": "code",
   "execution_count": null,
   "metadata": {
    "pycharm": {
     "is_executing": true
    }
   },
   "outputs": [],
   "source": []
  }
 ],
 "metadata": {
  "anaconda-cloud": {},
  "kernelspec": {
   "display_name": "Python 3 (ipykernel)",
   "language": "python",
   "name": "python3"
  },
  "language_info": {
   "codemirror_mode": {
    "name": "ipython",
    "version": 3
   },
   "file_extension": ".py",
   "mimetype": "text/x-python",
   "name": "python",
   "nbconvert_exporter": "python",
   "pygments_lexer": "ipython3",
   "version": "3.9.7"
  },
  "toc": {
   "colors": {
    "hover_highlight": "#DAA520",
    "running_highlight": "#FF0000",
    "selected_highlight": "#FFD700"
   },
   "moveMenuLeft": true,
   "nav_menu": {
    "height": "12px",
    "width": "252px"
   },
   "navigate_menu": true,
   "number_sections": true,
   "sideBar": true,
   "threshold": 4,
   "toc_cell": false,
   "toc_section_display": "block",
   "toc_window_display": false,
   "widenNotebook": false
  }
 },
 "nbformat": 4,
 "nbformat_minor": 1
}