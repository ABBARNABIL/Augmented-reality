{
 "cells": [
  {
   "cell_type": "markdown",
   "source": [
    "Importing libraries"
   ],
   "metadata": {
    "collapsed": false
   }
  },
  {
   "cell_type": "code",
   "execution_count": 2,
   "metadata": {
    "collapsed": true
   },
   "outputs": [],
   "source": [
    "# Warning : the backend below may generate some issues if used\n",
    "# in a conda environment.\n",
    "%matplotlib tk\n",
    "# Try this backend if %matplotlib tk does not work properly\n",
    "# In this case do not use the ginput command.\n",
    "#%matplotlib notebook\n",
    "import matplotlib\n",
    "import matplotlib.pyplot as plt\n",
    "import matplotlib.image as mpimg\n",
    "import numpy as np\n",
    "from mpl_toolkits.mplot3d import Axes3D\n",
    "from scipy import linalg\n",
    "\n",
    "import warnings\n",
    "\n",
    "def fxn():\n",
    "    warnings.warn(\"deprecated\", DeprecationWarning)\n",
    "\n",
    "with warnings.catch_warnings():\n",
    "    warnings.simplefilter(\"ignore\")\n",
    "    fxn()"
   ]
  },
  {
   "cell_type": "code",
   "execution_count": 3,
   "outputs": [],
   "source": [
    "img=mpimg.imread('goal.jpg')\n",
    "fig,ax = plt.subplots()\n",
    "ax.imshow(img)\n",
    "N=11\n",
    "# If %matplotlib works properly you can\n",
    "# use the following two lines\n",
    "# Image buffer points from mouse clicks\n",
    "u_im = np.array(plt.ginput(N,timeout=-1))\n",
    "plt.close()"
   ],
   "metadata": {
    "collapsed": false,
    "pycharm": {
     "name": "#%%\n"
    }
   }
  },
  {
   "cell_type": "code",
   "execution_count": 4,
   "outputs": [
    {
     "name": "stdout",
     "output_type": "stream",
     "text": [
      "[[1258.05443548 1103.36169355]\n",
      " [ 869.3266129  1076.42016129]\n",
      " [ 980.94153226  999.44435484]\n",
      " [1123.34677419  945.56129032]\n",
      " [1631.38709677  926.31733871]\n",
      " [1377.36693548  833.94637097]\n",
      " [ 434.41330645  941.7125    ]\n",
      " [ 800.0483871   776.21451613]\n",
      " [ 530.63306452  737.7266129 ]\n",
      " [ 141.90524194  568.37983871]\n",
      " [ 823.14112903  229.68629032]]\n"
     ]
    }
   ],
   "source": [
    "print(u_im)"
   ],
   "metadata": {
    "collapsed": false,
    "pycharm": {
     "name": "#%%\n"
    }
   }
  },
  {
   "cell_type": "code",
   "execution_count": 6,
   "outputs": [
    {
     "name": "stdout",
     "output_type": "stream",
     "text": [
      "[[1.25805444e+03 8.69326613e+02 9.80941532e+02 1.12334677e+03\n",
      "  1.63138710e+03 1.37736694e+03 4.34413306e+02 8.00048387e+02\n",
      "  5.30633065e+02 1.41905242e+02 8.23141129e+02]\n",
      " [1.10336169e+03 1.07642016e+03 9.99444355e+02 9.45561290e+02\n",
      "  9.26317339e+02 8.33946371e+02 9.41712500e+02 7.76214516e+02\n",
      "  7.37726613e+02 5.68379839e+02 2.29686290e+02]\n",
      " [1.00000000e+00 1.00000000e+00 1.00000000e+00 1.00000000e+00\n",
      "  1.00000000e+00 1.00000000e+00 1.00000000e+00 1.00000000e+00\n",
      "  1.00000000e+00 1.00000000e+00 1.00000000e+00]]\n"
     ]
    }
   ],
   "source": [
    "u_im = np.vstack((np.transpose(u_im),np.ones(N)))\n",
    "print(u_im)"
   ],
   "metadata": {
    "collapsed": false,
    "pycharm": {
     "name": "#%%\n"
    }
   }
  },
  {
   "cell_type": "code",
   "execution_count": 7,
   "outputs": [],
   "source": [
    "fig,ax = plt.subplots()\n",
    "ax.imshow(img)\n",
    "plt.scatter(u_im[0,:],u_im[1,:])\n",
    "plt.show()"
   ],
   "metadata": {
    "collapsed": false,
    "pycharm": {
     "name": "#%%\n"
    }
   }
  }
 ],
 "metadata": {
  "kernelspec": {
   "display_name": "Python 3",
   "language": "python",
   "name": "python3"
  },
  "language_info": {
   "codemirror_mode": {
    "name": "ipython",
    "version": 2
   },
   "file_extension": ".py",
   "mimetype": "text/x-python",
   "name": "python",
   "nbconvert_exporter": "python",
   "pygments_lexer": "ipython2",
   "version": "2.7.6"
  }
 },
 "nbformat": 4,
 "nbformat_minor": 0
}